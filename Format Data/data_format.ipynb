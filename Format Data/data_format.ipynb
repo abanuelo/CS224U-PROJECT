{
 "cells": [
  {
   "cell_type": "markdown",
   "metadata": {
    "collapsed": true
   },
   "source": [
    "This file splits the data into train dev test"
   ]
  },
  {
   "cell_type": "code",
   "execution_count": 5,
   "metadata": {},
   "outputs": [],
   "source": [
    "import os, sys\n",
    "import numpy as np\n",
    "from sklearn.model_selection import train_test_split"
   ]
  },
  {
   "cell_type": "code",
   "execution_count": 6,
   "metadata": {},
   "outputs": [],
   "source": [
    "#get all files in directory\n",
    "def iterate_dir(dir):\n",
    "    files = []\n",
    "    for file in os.listdir(dir):\n",
    "        abs_path = os.path.join(dir, file)\n",
    "        res = [file, abs_path]\n",
    "        files.append(res)    \n",
    "    return files"
   ]
  },
  {
   "cell_type": "code",
   "execution_count": 7,
   "metadata": {},
   "outputs": [],
   "source": [
    "def split_files(train_ratio = 0.4,dev_ratio = 0.3,test_ratio = 0.3):\n",
    "    assert train_ratio + dev_ratio + test_ratio == 1\n",
    "    \"../feature_groups/tweets_dev\"\n",
    "    for file, path in iterate_dir(\"../../feature_groups/tweets\"):\n",
    "        with open(path, \"r\", encoding = 'iso-8859-1') as f:\n",
    "            lines = f.read().splitlines()\n",
    "        np.random.shuffle(lines)\n",
    "        train_index = train_ratio * len(lines)\n",
    "        dev_index = (train_ratio + dev_ratio) * len(lines)\n",
    "        train, dev, test = np.split(lines, [int(train_index),int(dev_index)])\n",
    "        train_path = os.path.join(\"../../feature_groups/tweets_dev\", file+'_train')\n",
    "        with open(train_path, \"w\") as train_f:\n",
    "            for line in train:\n",
    "                train_f.write(line+'\\n')\n",
    "        dev_path = os.path.join(\"../../feature_groups/tweets_dev\", file+'_dev')\n",
    "        if dev_ratio > 0:\n",
    "            with open(dev_path, \"w\") as dev_f:\n",
    "                for line in dev:\n",
    "                    dev_f.write(line+'\\n')\n",
    "        test_path = os.path.join(\"../../feature_groups/tweets_dev\", file+'_test')\n",
    "        with open(test_path, \"w\") as test_f:\n",
    "            for line in test:\n",
    "                test_f.write(line+'\\n')\n",
    "        \n",
    "    "
   ]
  },
  {
   "cell_type": "code",
   "execution_count": 8,
   "metadata": {},
   "outputs": [],
   "source": [
    "split_files(train_ratio = 0.6,dev_ratio = 0,test_ratio = 0.4)"
   ]
  },
  {
   "cell_type": "code",
   "execution_count": 10,
   "metadata": {},
   "outputs": [
    {
     "name": "stdout",
     "output_type": "stream",
     "text": [
      "1\n"
     ]
    }
   ],
   "source": [
    "print(1)"
   ]
  }
 ],
 "metadata": {
  "kernelspec": {
   "display_name": "Python 3",
   "language": "python",
   "name": "python3"
  },
  "language_info": {
   "codemirror_mode": {
    "name": "ipython",
    "version": 3
   },
   "file_extension": ".py",
   "mimetype": "text/x-python",
   "name": "python",
   "nbconvert_exporter": "python",
   "pygments_lexer": "ipython3",
   "version": "3.6.4"
  }
 },
 "nbformat": 4,
 "nbformat_minor": 2
}
